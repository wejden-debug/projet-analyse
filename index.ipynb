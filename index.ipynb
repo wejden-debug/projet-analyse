{
 "cells": [
  {
   "cell_type": "code",
   "execution_count": 1,
   "metadata": {},
   "outputs": [],
   "source": [
    "import pandas as pd"
   ]
  },
  {
   "attachments": {},
   "cell_type": "markdown",
   "metadata": {},
   "source": [
    "# Dataset"
   ]
  },
  {
   "cell_type": "code",
   "execution_count": 3,
   "metadata": {},
   "outputs": [],
   "source": [
    "df=pd.read_csv(\"dataset/spotify.csv\")"
   ]
  },
  {
   "cell_type": "code",
   "execution_count": 4,
   "metadata": {},
   "outputs": [
    {
     "data": {
      "text/html": [
       "<div>\n",
       "<style scoped>\n",
       "    .dataframe tbody tr th:only-of-type {\n",
       "        vertical-align: middle;\n",
       "    }\n",
       "\n",
       "    .dataframe tbody tr th {\n",
       "        vertical-align: top;\n",
       "    }\n",
       "\n",
       "    .dataframe thead th {\n",
       "        text-align: right;\n",
       "    }\n",
       "</style>\n",
       "<table border=\"1\" class=\"dataframe\">\n",
       "  <thead>\n",
       "    <tr style=\"text-align: right;\">\n",
       "      <th></th>\n",
       "      <th>title</th>\n",
       "      <th>artist</th>\n",
       "      <th>top genre</th>\n",
       "      <th>year</th>\n",
       "      <th>bpm</th>\n",
       "      <th>nrgy</th>\n",
       "      <th>dnce</th>\n",
       "      <th>dB</th>\n",
       "      <th>live</th>\n",
       "      <th>val</th>\n",
       "      <th>dur</th>\n",
       "      <th>acous</th>\n",
       "      <th>spch</th>\n",
       "      <th>pop</th>\n",
       "    </tr>\n",
       "  </thead>\n",
       "  <tbody>\n",
       "    <tr>\n",
       "      <th>0</th>\n",
       "      <td>\"Hey, Soul Sister\"</td>\n",
       "      <td>Train</td>\n",
       "      <td>neo mellow</td>\n",
       "      <td>2010</td>\n",
       "      <td>97</td>\n",
       "      <td>89</td>\n",
       "      <td>67</td>\n",
       "      <td>-4</td>\n",
       "      <td>8</td>\n",
       "      <td>80</td>\n",
       "      <td>217</td>\n",
       "      <td>19</td>\n",
       "      <td>4</td>\n",
       "      <td>83</td>\n",
       "    </tr>\n",
       "    <tr>\n",
       "      <th>1</th>\n",
       "      <td>Love The Way You Lie</td>\n",
       "      <td>Eminem</td>\n",
       "      <td>detroit hip hop</td>\n",
       "      <td>2010</td>\n",
       "      <td>87</td>\n",
       "      <td>93</td>\n",
       "      <td>75</td>\n",
       "      <td>-5</td>\n",
       "      <td>52</td>\n",
       "      <td>64</td>\n",
       "      <td>263</td>\n",
       "      <td>24</td>\n",
       "      <td>23</td>\n",
       "      <td>82</td>\n",
       "    </tr>\n",
       "    <tr>\n",
       "      <th>2</th>\n",
       "      <td>TiK ToK</td>\n",
       "      <td>Kesha</td>\n",
       "      <td>dance pop</td>\n",
       "      <td>2010</td>\n",
       "      <td>120</td>\n",
       "      <td>84</td>\n",
       "      <td>76</td>\n",
       "      <td>-3</td>\n",
       "      <td>29</td>\n",
       "      <td>71</td>\n",
       "      <td>200</td>\n",
       "      <td>10</td>\n",
       "      <td>14</td>\n",
       "      <td>80</td>\n",
       "    </tr>\n",
       "    <tr>\n",
       "      <th>3</th>\n",
       "      <td>Bad Romance</td>\n",
       "      <td>Lady Gaga</td>\n",
       "      <td>dance pop</td>\n",
       "      <td>2010</td>\n",
       "      <td>119</td>\n",
       "      <td>92</td>\n",
       "      <td>70</td>\n",
       "      <td>-4</td>\n",
       "      <td>8</td>\n",
       "      <td>71</td>\n",
       "      <td>295</td>\n",
       "      <td>0</td>\n",
       "      <td>4</td>\n",
       "      <td>79</td>\n",
       "    </tr>\n",
       "    <tr>\n",
       "      <th>4</th>\n",
       "      <td>Just the Way You Are</td>\n",
       "      <td>Bruno Mars</td>\n",
       "      <td>pop</td>\n",
       "      <td>2010</td>\n",
       "      <td>109</td>\n",
       "      <td>84</td>\n",
       "      <td>64</td>\n",
       "      <td>-5</td>\n",
       "      <td>9</td>\n",
       "      <td>43</td>\n",
       "      <td>221</td>\n",
       "      <td>2</td>\n",
       "      <td>4</td>\n",
       "      <td>78</td>\n",
       "    </tr>\n",
       "  </tbody>\n",
       "</table>\n",
       "</div>"
      ],
      "text/plain": [
       "                  title      artist        top genre  year  bpm  nrgy  dnce  \\\n",
       "0    \"Hey, Soul Sister\"       Train       neo mellow  2010   97    89    67   \n",
       "1  Love The Way You Lie      Eminem  detroit hip hop  2010   87    93    75   \n",
       "2               TiK ToK       Kesha        dance pop  2010  120    84    76   \n",
       "3           Bad Romance   Lady Gaga        dance pop  2010  119    92    70   \n",
       "4  Just the Way You Are  Bruno Mars              pop  2010  109    84    64   \n",
       "\n",
       "   dB  live  val  dur  acous  spch  pop  \n",
       "0  -4     8   80  217     19     4   83  \n",
       "1  -5    52   64  263     24    23   82  \n",
       "2  -3    29   71  200     10    14   80  \n",
       "3  -4     8   71  295      0     4   79  \n",
       "4  -5     9   43  221      2     4   78  "
      ]
     },
     "execution_count": 4,
     "metadata": {},
     "output_type": "execute_result"
    }
   ],
   "source": [
    "df.head()"
   ]
  },
  {
   "cell_type": "code",
   "execution_count": 8,
   "metadata": {},
   "outputs": [],
   "source": [
    "df=pd.read_csv(\"dataset/spotify.csv\", index_col=0)"
   ]
  },
  {
   "cell_type": "code",
   "execution_count": 9,
   "metadata": {},
   "outputs": [
    {
     "data": {
      "text/plain": [
       "(603, 13)"
      ]
     },
     "execution_count": 9,
     "metadata": {},
     "output_type": "execute_result"
    }
   ],
   "source": [
    "df.shape"
   ]
  },
  {
   "cell_type": "code",
   "execution_count": 10,
   "metadata": {},
   "outputs": [
    {
     "data": {
      "text/plain": [
       "Index(['artist', 'top genre', 'year', 'bpm', 'nrgy', 'dnce', 'dB', 'live',\n",
       "       'val', 'dur', 'acous', 'spch', 'pop'],\n",
       "      dtype='object')"
      ]
     },
     "execution_count": 10,
     "metadata": {},
     "output_type": "execute_result"
    }
   ],
   "source": [
    "df.columns"
   ]
  },
  {
   "cell_type": "code",
   "execution_count": 11,
   "metadata": {},
   "outputs": [
    {
     "data": {
      "text/plain": [
       "<bound method DataFrame.info of                                                               artist  \\\n",
       "title                                                                  \n",
       "\"Hey, Soul Sister\"                                             Train   \n",
       "Love The Way You Lie                                          Eminem   \n",
       "TiK ToK                                                        Kesha   \n",
       "Bad Romance                                                Lady Gaga   \n",
       "Just the Way You Are                                      Bruno Mars   \n",
       "...                                                              ...   \n",
       "Find U Again (feat. Camila Cabello)                      Mark Ronson   \n",
       "Cross Me (feat. Chance the Rapper & PnB Rock)             Ed Sheeran   \n",
       "\"No Brainer (feat. Justin Bieber, Chance the Ra...         DJ Khaled   \n",
       "Nothing Breaks Like a Heart (feat. Miley Cyrus)          Mark Ronson   \n",
       "Kills You Slowly                                    The Chainsmokers   \n",
       "\n",
       "                                                          top genre  year  \\\n",
       "title                                                                       \n",
       "\"Hey, Soul Sister\"                                       neo mellow  2010   \n",
       "Love The Way You Lie                                detroit hip hop  2010   \n",
       "TiK ToK                                                   dance pop  2010   \n",
       "Bad Romance                                               dance pop  2010   \n",
       "Just the Way You Are                                            pop  2010   \n",
       "...                                                             ...   ...   \n",
       "Find U Again (feat. Camila Cabello)                       dance pop  2019   \n",
       "Cross Me (feat. Chance the Rapper & PnB Rock)                   pop  2019   \n",
       "\"No Brainer (feat. Justin Bieber, Chance the Ra...        dance pop  2019   \n",
       "Nothing Breaks Like a Heart (feat. Miley Cyrus)           dance pop  2019   \n",
       "Kills You Slowly                                         electropop  2019   \n",
       "\n",
       "                                                    bpm  nrgy  dnce  dB  live  \\\n",
       "title                                                                           \n",
       "\"Hey, Soul Sister\"                                   97    89    67  -4     8   \n",
       "Love The Way You Lie                                 87    93    75  -5    52   \n",
       "TiK ToK                                             120    84    76  -3    29   \n",
       "Bad Romance                                         119    92    70  -4     8   \n",
       "Just the Way You Are                                109    84    64  -5     9   \n",
       "...                                                 ...   ...   ...  ..   ...   \n",
       "Find U Again (feat. Camila Cabello)                 104    66    61  -7    20   \n",
       "Cross Me (feat. Chance the Rapper & PnB Rock)        95    79    75  -6     7   \n",
       "\"No Brainer (feat. Justin Bieber, Chance the Ra...  136    76    53  -5     9   \n",
       "Nothing Breaks Like a Heart (feat. Miley Cyrus)     114    79    60  -6    42   \n",
       "Kills You Slowly                                    150    44    70  -9    13   \n",
       "\n",
       "                                                    val  dur  acous  spch  pop  \n",
       "title                                                                           \n",
       "\"Hey, Soul Sister\"                                   80  217     19     4   83  \n",
       "Love The Way You Lie                                 64  263     24    23   82  \n",
       "TiK ToK                                              71  200     10    14   80  \n",
       "Bad Romance                                          71  295      0     4   79  \n",
       "Just the Way You Are                                 43  221      2     4   78  \n",
       "...                                                 ...  ...    ...   ...  ...  \n",
       "Find U Again (feat. Camila Cabello)                  16  176      1     3   75  \n",
       "Cross Me (feat. Chance the Rapper & PnB Rock)        61  206     21    12   75  \n",
       "\"No Brainer (feat. Justin Bieber, Chance the Ra...   65  260      7    34   70  \n",
       "Nothing Breaks Like a Heart (feat. Miley Cyrus)      24  217      1     7   69  \n",
       "Kills You Slowly                                     23  213      6     6   67  \n",
       "\n",
       "[603 rows x 13 columns]>"
      ]
     },
     "execution_count": 11,
     "metadata": {},
     "output_type": "execute_result"
    }
   ],
   "source": [
    "df.info"
   ]
  },
  {
   "cell_type": "code",
   "execution_count": 12,
   "metadata": {},
   "outputs": [
    {
     "name": "stdout",
     "output_type": "stream",
     "text": [
      "| title                | artist   | top genre       |   year |   bpm |   nrgy |   dnce |   dB |   live |   val |   dur |   acous |   spch |   pop |\n",
      "|:---------------------|:---------|:----------------|-------:|------:|-------:|-------:|-----:|-------:|------:|------:|--------:|-------:|------:|\n",
      "| \"Hey, Soul Sister\"   | Train    | neo mellow      |   2010 |    97 |     89 |     67 |   -4 |      8 |    80 |   217 |      19 |      4 |    83 |\n",
      "| Love The Way You Lie | Eminem   | detroit hip hop |   2010 |    87 |     93 |     75 |   -5 |     52 |    64 |   263 |      24 |     23 |    82 |\n"
     ]
    }
   ],
   "source": [
    "print(df.head(2).to_markdown())"
   ]
  }
 ],
 "metadata": {
  "kernelspec": {
   "display_name": "Python 3",
   "language": "python",
   "name": "python3"
  },
  "language_info": {
   "codemirror_mode": {
    "name": "ipython",
    "version": 3
   },
   "file_extension": ".py",
   "mimetype": "text/x-python",
   "name": "python",
   "nbconvert_exporter": "python",
   "pygments_lexer": "ipython3",
   "version": "3.10.2"
  },
  "orig_nbformat": 4
 },
 "nbformat": 4,
 "nbformat_minor": 2
}
